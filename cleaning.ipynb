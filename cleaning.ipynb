{
 "cells": [
  {
   "cell_type": "code",
   "execution_count": null,
   "metadata": {},
   "outputs": [],
   "source": [
    "import pandas as pd\n",
    "\n",
    "# Read all sheets\n",
    "excel_path = \"IS453 Group Assignment - Data Dict.xlsx\"\n",
    "xls = pd.ExcelFile(excel_path)\n",
    "\n",
    "# Display sheet names\n",
    "print(xls.sheet_names)\n",
    "\n",
    "# Read each sheet into a DataFrame\n",
    "df1 = pd.read_excel(xls, xls.sheet_names[0])\n",
    "df2 = pd.read_excel(xls, xls.sheet_names[1])\n",
    "\n",
    "# Display basic info\n",
    "print(\"Sheet 1 shape:\", df1.shape)\n",
    "print(\"Sheet 2 shape:\", df2.shape)"
   ]
  },
  {
   "cell_type": "code",
   "execution_count": null,
   "metadata": {},
   "outputs": [],
   "source": [
    "import pandas as pd\n",
    "\n",
    "# This was after preprocessing of removing applicant below 60 years\n",
    "main_df = pd.read_csv(\"elder_care_segment.csv\")"
   ]
  },
  {
   "cell_type": "code",
   "execution_count": null,
   "metadata": {},
   "outputs": [],
   "source": [
    "main_df[\"NAME_INCOME_TYPE\"].unique()"
   ]
  }
 ],
 "metadata": {
  "language_info": {
   "name": "python"
  },
  "orig_nbformat": 4
 },
 "nbformat": 4,
 "nbformat_minor": 2
}
